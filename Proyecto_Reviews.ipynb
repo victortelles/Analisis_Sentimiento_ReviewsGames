{
 "cells": [
  {
   "cell_type": "markdown",
   "metadata": {},
   "source": [
    "# Analisis de Sentimientos en reseñas de Steam.\n",
    "**Nombre**\n",
    "**Fecha**\n",
    "**Materia**\n",
    "\n",
    "## Descripcion\n",
    "> text"
   ]
  },
  {
   "cell_type": "markdown",
   "metadata": {},
   "source": [
    "## Importacion de librerias\n",
    "\n",
    "\n",
    "Aquí se importan las librerías esenciales para el procesamiento de lenguaje natural, análisis de datos y visualización. Utilizaremos nltk para el análisis de texto, pandas para la manipulación de dataframes, matplotlib y seaborn para graficar, y otras librerías como re y random para tareas específicas.\n",
    "\n",
    "- `nltk` : Para el analisis de texto\n",
    "- `pandas` : Para Para la manipulacion de dataframes\n",
    "- `matplotlib y seaborn` : Para graficar\n",
    "- `re` : Para expresiones regulares"
   ]
  },
  {
   "cell_type": "code",
   "execution_count": 1,
   "metadata": {},
   "outputs": [
    {
     "name": "stdout",
     "output_type": "stream",
     "text": [
      "Librerías importadas correctamente para el procesamiento de lenguaje natural.\n"
     ]
    }
   ],
   "source": [
    "# Importación de librerías para Procesamiento de Lenguaje Natural\n",
    "import nltk\n",
    "import pandas as pd\n",
    "import matplotlib.pyplot as plt\n",
    "import re\n",
    "import seaborn as sns\n",
    "import random\n",
    "import requests\n",
    "\n",
    "from nltk.corpus import stopwords\n",
    "from nltk import ngrams\n",
    "\n",
    "# Descargar recursos de nltk, como stopwords\n",
    "#nltk.download('punkt')\n",
    "#nltk.download('stopwords')\n",
    "\n",
    "# Confirmación de importación\n",
    "print(\"Librerías importadas correctamente para el procesamiento de lenguaje natural.\")"
   ]
  },
  {
   "cell_type": "markdown",
   "metadata": {},
   "source": [
    "## Importacion de Datos de Steam\n",
    "En esta parte se explica como obtener las reseñas de Steam. Se pueden extraer mediante la API de Steam, utilizando el siguiente endpoint:\n",
    "\n",
    "`GET https://store.steampowered.com/appreviews/<id_de_aplicación>?json=1`\n",
    "Se indican algunos parametros utiles como lo son:\n",
    "- `filter`\n",
    "- `language`\n",
    "- `day_range`\n",
    "- `cursor`\n",
    "- `review_type`\n",
    "- `num_per_page`\n",
    "- `filter_offtopic_activity`\n",
    "\n",
    "Para saber mas de los parametros puedes ir a [Steam API](https://partner.steamgames.com/doc/store/getreviews)\n",
    "\n",
    "En esta parte se hace la peticion del endpoint mediante el `id del juego` con los parametros adecuados (En este caso, se extraen 100 reseñas por pagina en lenguaje de español).\n",
    "La respuesta se presenta en estructura JSON devuelto y psoteriormente se carga en un DataFrame de *Pandas* para hacer el análisis"
   ]
  },
  {
   "cell_type": "code",
   "execution_count": 28,
   "metadata": {},
   "outputs": [
    {
     "name": "stdout",
     "output_type": "stream",
     "text": [
      "Información del DataFrame:\n",
      "<class 'pandas.core.frame.DataFrame'>\n",
      "RangeIndex: 100 entries, 0 to 99\n",
      "Data columns (total 15 columns):\n",
      " #   Column                       Non-Null Count  Dtype \n",
      "---  ------                       --------------  ----- \n",
      " 0   recommendationid             100 non-null    object\n",
      " 1   author                       100 non-null    object\n",
      " 2   language                     100 non-null    object\n",
      " 3   review                       100 non-null    object\n",
      " 4   timestamp_created            100 non-null    int64 \n",
      " 5   timestamp_updated            100 non-null    int64 \n",
      " 6   voted_up                     100 non-null    bool  \n",
      " 7   votes_up                     100 non-null    int64 \n",
      " 8   votes_funny                  100 non-null    int64 \n",
      " 9   weighted_vote_score          100 non-null    object\n",
      " 10  comment_count                100 non-null    int64 \n",
      " 11  steam_purchase               100 non-null    bool  \n",
      " 12  received_for_free            100 non-null    bool  \n",
      " 13  written_during_early_access  100 non-null    bool  \n",
      " 14  primarily_steam_deck         100 non-null    bool  \n",
      "dtypes: bool(5), int64(5), object(5)\n",
      "memory usage: 8.4+ KB\n",
      "None\n"
     ]
    }
   ],
   "source": [
    "# URL de la API de Steam para obtener reseñas en español (100 reseñas)\n",
    "id_game = \"2246340\"             # Monster Hunter Wilds = 2246340\n",
    "language = \"spanish\"            # Idioma de las reseñas\n",
    "num_per_page = \"100\"            # Número de reseñas por página\n",
    "url = f\"https://store.steampowered.com/appreviews/{id_game}?json=1&language={language}&num_per_page={num_per_page}\"\n",
    "\n",
    "\n",
    "# Realizar la solicitud a la API\n",
    "response = requests.get(url)\n",
    "data = response.json()\n",
    "\n",
    "# Extraer las reseñas del JSON\n",
    "reviews = data.get('reviews', [])\n",
    "\n",
    "# Crear un DataFrame a partir de las reseñas\n",
    "df_reviews = pd.DataFrame(reviews)\n",
    "\n",
    "# Mostrar información básica del DataFrame\n",
    "print(\"Información del DataFrame:\")\n",
    "print(df_reviews.info())\n"
   ]
  },
  {
   "cell_type": "code",
   "execution_count": 27,
   "metadata": {},
   "outputs": [
    {
     "name": "stdout",
     "output_type": "stream",
     "text": [
      "\n",
      "Primeras filas del DataFrame completo:\n"
     ]
    },
    {
     "data": {
      "text/html": [
       "<div>\n",
       "<style scoped>\n",
       "    .dataframe tbody tr th:only-of-type {\n",
       "        vertical-align: middle;\n",
       "    }\n",
       "\n",
       "    .dataframe tbody tr th {\n",
       "        vertical-align: top;\n",
       "    }\n",
       "\n",
       "    .dataframe thead th {\n",
       "        text-align: right;\n",
       "    }\n",
       "</style>\n",
       "<table border=\"1\" class=\"dataframe\">\n",
       "  <thead>\n",
       "    <tr style=\"text-align: right;\">\n",
       "      <th></th>\n",
       "      <th>recommendationid</th>\n",
       "      <th>author</th>\n",
       "      <th>language</th>\n",
       "      <th>review</th>\n",
       "      <th>timestamp_created</th>\n",
       "      <th>timestamp_updated</th>\n",
       "      <th>voted_up</th>\n",
       "      <th>votes_up</th>\n",
       "      <th>votes_funny</th>\n",
       "      <th>weighted_vote_score</th>\n",
       "      <th>comment_count</th>\n",
       "      <th>steam_purchase</th>\n",
       "      <th>received_for_free</th>\n",
       "      <th>written_during_early_access</th>\n",
       "      <th>primarily_steam_deck</th>\n",
       "    </tr>\n",
       "  </thead>\n",
       "  <tbody>\n",
       "    <tr>\n",
       "      <th>0</th>\n",
       "      <td>189321117</td>\n",
       "      <td>{'steamid': '76561198138131071', 'num_games_ow...</td>\n",
       "      <td>spanish</td>\n",
       "      <td>AMO el juego, es demasiado bueno y la verdad e...</td>\n",
       "      <td>1741064282</td>\n",
       "      <td>1741840734</td>\n",
       "      <td>False</td>\n",
       "      <td>135</td>\n",
       "      <td>6</td>\n",
       "      <td>0.832816362380981445</td>\n",
       "      <td>0</td>\n",
       "      <td>True</td>\n",
       "      <td>False</td>\n",
       "      <td>False</td>\n",
       "      <td>False</td>\n",
       "    </tr>\n",
       "    <tr>\n",
       "      <th>1</th>\n",
       "      <td>188940182</td>\n",
       "      <td>{'steamid': '76561198049254557', 'num_games_ow...</td>\n",
       "      <td>spanish</td>\n",
       "      <td>Basta ya. Basta de sacar productos incompletos...</td>\n",
       "      <td>1740743526</td>\n",
       "      <td>1740743526</td>\n",
       "      <td>False</td>\n",
       "      <td>79</td>\n",
       "      <td>3</td>\n",
       "      <td>0.70836329460144043</td>\n",
       "      <td>0</td>\n",
       "      <td>True</td>\n",
       "      <td>False</td>\n",
       "      <td>False</td>\n",
       "      <td>False</td>\n",
       "    </tr>\n",
       "    <tr>\n",
       "      <th>2</th>\n",
       "      <td>189266847</td>\n",
       "      <td>{'steamid': '76561198066270836', 'num_games_ow...</td>\n",
       "      <td>spanish</td>\n",
       "      <td>Uno de los mejores juegos de la historia sin d...</td>\n",
       "      <td>1741010357</td>\n",
       "      <td>1741010357</td>\n",
       "      <td>True</td>\n",
       "      <td>23</td>\n",
       "      <td>2</td>\n",
       "      <td>0.706308245658874512</td>\n",
       "      <td>1</td>\n",
       "      <td>True</td>\n",
       "      <td>False</td>\n",
       "      <td>False</td>\n",
       "      <td>False</td>\n",
       "    </tr>\n",
       "    <tr>\n",
       "      <th>3</th>\n",
       "      <td>189254007</td>\n",
       "      <td>{'steamid': '76561198010057144', 'num_games_ow...</td>\n",
       "      <td>spanish</td>\n",
       "      <td>As a Monster Hunter game, it's absolutely supe...</td>\n",
       "      <td>1740997022</td>\n",
       "      <td>1740997022</td>\n",
       "      <td>False</td>\n",
       "      <td>48</td>\n",
       "      <td>3</td>\n",
       "      <td>0.693980157375335693</td>\n",
       "      <td>5</td>\n",
       "      <td>True</td>\n",
       "      <td>False</td>\n",
       "      <td>False</td>\n",
       "      <td>False</td>\n",
       "    </tr>\n",
       "    <tr>\n",
       "      <th>4</th>\n",
       "      <td>188929055</td>\n",
       "      <td>{'steamid': '76561198417230907', 'num_games_ow...</td>\n",
       "      <td>spanish</td>\n",
       "      <td>el juego de la banana esta mejor optimizado \\n...</td>\n",
       "      <td>1740735215</td>\n",
       "      <td>1740751024</td>\n",
       "      <td>True</td>\n",
       "      <td>30</td>\n",
       "      <td>0</td>\n",
       "      <td>0.71985316276550293</td>\n",
       "      <td>0</td>\n",
       "      <td>True</td>\n",
       "      <td>False</td>\n",
       "      <td>False</td>\n",
       "      <td>False</td>\n",
       "    </tr>\n",
       "  </tbody>\n",
       "</table>\n",
       "</div>"
      ],
      "text/plain": [
       "  recommendationid                                             author  \\\n",
       "0        189321117  {'steamid': '76561198138131071', 'num_games_ow...   \n",
       "1        188940182  {'steamid': '76561198049254557', 'num_games_ow...   \n",
       "2        189266847  {'steamid': '76561198066270836', 'num_games_ow...   \n",
       "3        189254007  {'steamid': '76561198010057144', 'num_games_ow...   \n",
       "4        188929055  {'steamid': '76561198417230907', 'num_games_ow...   \n",
       "\n",
       "  language                                             review  \\\n",
       "0  spanish  AMO el juego, es demasiado bueno y la verdad e...   \n",
       "1  spanish  Basta ya. Basta de sacar productos incompletos...   \n",
       "2  spanish  Uno de los mejores juegos de la historia sin d...   \n",
       "3  spanish  As a Monster Hunter game, it's absolutely supe...   \n",
       "4  spanish  el juego de la banana esta mejor optimizado \\n...   \n",
       "\n",
       "   timestamp_created  timestamp_updated  voted_up  votes_up  votes_funny  \\\n",
       "0         1741064282         1741840734     False       135            6   \n",
       "1         1740743526         1740743526     False        79            3   \n",
       "2         1741010357         1741010357      True        23            2   \n",
       "3         1740997022         1740997022     False        48            3   \n",
       "4         1740735215         1740751024      True        30            0   \n",
       "\n",
       "    weighted_vote_score  comment_count  steam_purchase  received_for_free  \\\n",
       "0  0.832816362380981445              0            True              False   \n",
       "1   0.70836329460144043              0            True              False   \n",
       "2  0.706308245658874512              1            True              False   \n",
       "3  0.693980157375335693              5            True              False   \n",
       "4   0.71985316276550293              0            True              False   \n",
       "\n",
       "   written_during_early_access  primarily_steam_deck  \n",
       "0                        False                 False  \n",
       "1                        False                 False  \n",
       "2                        False                 False  \n",
       "3                        False                 False  \n",
       "4                        False                 False  "
      ]
     },
     "execution_count": 27,
     "metadata": {},
     "output_type": "execute_result"
    }
   ],
   "source": [
    "print(\"\\nPrimeras filas del DataFrame completo:\")\n",
    "df_reviews.head(5)"
   ]
  },
  {
   "cell_type": "code",
   "execution_count": 30,
   "metadata": {},
   "outputs": [
    {
     "data": {
      "text/html": [
       "<div>\n",
       "<style scoped>\n",
       "    .dataframe tbody tr th:only-of-type {\n",
       "        vertical-align: middle;\n",
       "    }\n",
       "\n",
       "    .dataframe tbody tr th {\n",
       "        vertical-align: top;\n",
       "    }\n",
       "\n",
       "    .dataframe thead th {\n",
       "        text-align: right;\n",
       "    }\n",
       "</style>\n",
       "<table border=\"1\" class=\"dataframe\">\n",
       "  <thead>\n",
       "    <tr style=\"text-align: right;\">\n",
       "      <th></th>\n",
       "      <th>review</th>\n",
       "    </tr>\n",
       "  </thead>\n",
       "  <tbody>\n",
       "    <tr>\n",
       "      <th>0</th>\n",
       "      <td>AMO el juego, es demasiado bueno y la verdad es que superó todas mi expectativas,\\nPERO, tiene una de las peores optimizaciones que he visto en mi vida, necesita parchearse URGENTE</td>\n",
       "    </tr>\n",
       "    <tr>\n",
       "      <th>1</th>\n",
       "      <td>Basta ya. Basta de sacar productos incompletos. Si el juego va mal en PCs de gama media (y también en muchos equipos de alta gama) se retrasa el juego. Hoy en día es un estándar en la industria pero debemos dejar de tragar los usuarios. Le voy a dar un No Recomendado hasta que arreglen el juego porque ahora mismo es injugable. \\nUna pena la verdad porque por lo poco que he visto parece que el juego promete mucho pero es que tienen que dejar de abusar del consumidor y nuestra manera de quejarnos es influenciar en sus ventas con comentarios negativos.</td>\n",
       "    </tr>\n",
       "    <tr>\n",
       "      <th>2</th>\n",
       "      <td>Uno de los mejores juegos de la historia sin duda. Puro gameplay, pura diversión, sin chorradas. Entiendo que a algunos les vaya mal. Yo personalmente tengo una 2070 super, y quitandole las tonterias del desenfoque de movimiento, bajando un poco las sombras y un par de ajustes puedo tener las texturas en alto sin problema, 60 fps</td>\n",
       "    </tr>\n",
       "    <tr>\n",
       "      <th>3</th>\n",
       "      <td>As a Monster Hunter game, it's absolutely superb, delicious, amazing. It's everything I've always loved about the Monster Hunter franchise and more. And I've been playing since the PSP era with Monster Hunter Freedom Unite.\\r\\n\\r\\nHowever, needing frame gen only to reach 60 FPS at 1080p on a 3060ti (RTX 2080 equivalent, two tiers above recommended minimum) and Ryzen 9 5900x is absolutely unacceptable. Fix the performance up to an acceptable level and this review will become positive. The day I can run it at medium graphics, 1080p 60-70 stable fps with no scaling tech, I'll consider myself satisfied.</td>\n",
       "    </tr>\n",
       "    <tr>\n",
       "      <th>4</th>\n",
       "      <td>el juego de la banana esta mejor optimizado \\nparte 2\\ngente.. me di cuenta que la opción del juego (generación de fotogramas) me va como el culo así que por curiosear ingrese a la aplicación de AMD (mi GPU 6600XT) y active el AMD Fluid Motion Frames en graficos altos y el juego aparenta ir a 100 FPS de media 80.</td>\n",
       "    </tr>\n",
       "  </tbody>\n",
       "</table>\n",
       "</div>"
      ],
      "text/plain": [
       "                                                                                                                                                                                                                                                                                                                                                                                                                                                                                                                                                                                                                           review\n",
       "0                                                                                                                                                                                                                                                                                                                                                                                                                                            AMO el juego, es demasiado bueno y la verdad es que superó todas mi expectativas,\\nPERO, tiene una de las peores optimizaciones que he visto en mi vida, necesita parchearse URGENTE\n",
       "1                                                     Basta ya. Basta de sacar productos incompletos. Si el juego va mal en PCs de gama media (y también en muchos equipos de alta gama) se retrasa el juego. Hoy en día es un estándar en la industria pero debemos dejar de tragar los usuarios. Le voy a dar un No Recomendado hasta que arreglen el juego porque ahora mismo es injugable. \\nUna pena la verdad porque por lo poco que he visto parece que el juego promete mucho pero es que tienen que dejar de abusar del consumidor y nuestra manera de quejarnos es influenciar en sus ventas con comentarios negativos.\n",
       "2                                                                                                                                                                                                                                                                                     Uno de los mejores juegos de la historia sin duda. Puro gameplay, pura diversión, sin chorradas. Entiendo que a algunos les vaya mal. Yo personalmente tengo una 2070 super, y quitandole las tonterias del desenfoque de movimiento, bajando un poco las sombras y un par de ajustes puedo tener las texturas en alto sin problema, 60 fps\n",
       "3  As a Monster Hunter game, it's absolutely superb, delicious, amazing. It's everything I've always loved about the Monster Hunter franchise and more. And I've been playing since the PSP era with Monster Hunter Freedom Unite.\\r\\n\\r\\nHowever, needing frame gen only to reach 60 FPS at 1080p on a 3060ti (RTX 2080 equivalent, two tiers above recommended minimum) and Ryzen 9 5900x is absolutely unacceptable. Fix the performance up to an acceptable level and this review will become positive. The day I can run it at medium graphics, 1080p 60-70 stable fps with no scaling tech, I'll consider myself satisfied.\n",
       "4                                                                                                                                                                                                                                                                                                      el juego de la banana esta mejor optimizado \\nparte 2\\ngente.. me di cuenta que la opción del juego (generación de fotogramas) me va como el culo así que por curiosear ingrese a la aplicación de AMD (mi GPU 6600XT) y active el AMD Fluid Motion Frames en graficos altos y el juego aparenta ir a 100 FPS de media 80."
      ]
     },
     "execution_count": 30,
     "metadata": {},
     "output_type": "execute_result"
    }
   ],
   "source": [
    "# Crear otro dataframe para unicamente la columna de review y salga completamente el texto\n",
    "df_reviewsComments = df_reviews[['review']]\n",
    "df_reviewsComments.head(5)"
   ]
  },
  {
   "cell_type": "markdown",
   "metadata": {},
   "source": [
    "## Limpieza de texto (Stopwords)\n",
    "En esta seccion se muestra como limpiar el texto de las reseñas, removiendo stopwords en español para preparar el analisis. Se utilizan las stopwords de *nltk*\n"
   ]
  },
  {
   "cell_type": "code",
   "execution_count": null,
   "metadata": {},
   "outputs": [],
   "source": []
  },
  {
   "cell_type": "code",
   "execution_count": null,
   "metadata": {},
   "outputs": [
    {
     "name": "stdout",
     "output_type": "stream",
     "text": [
      "Simulación: Datos de reseñas importados correctamente.\n"
     ]
    }
   ],
   "source": [
    "# Ejemplo de URL y parámetros para obtener reseñas desde la API de Steam\n",
    "app_id = \"2246340\"  # Ejemplo: Monster Hunter Wilds\n",
    "url = f\"https://store.steampowered.com/appreviews/{app_id}?json=1&language=spanish\"\n",
    "\n",
    "# Se pueden agregar más parámetros según la necesidad:\n",
    "# params = {\n",
    "#     \"filter\": \"recent\",\n",
    "#     \"language\": \"spanish\",\n",
    "#     \"day_range\": 30,\n",
    "#     \"cursor\": \"*\",\n",
    "#     \"review_type\": \"all\",\n",
    "#     \"num_per_page\": 100,\n",
    "#     \"filter_offtopic_activity\": 0\n",
    "# }\n",
    "\n",
    "# Simulación de la extracción de datos (en la práctica, utilizarías requests o kaggle API para obtener el JSON)\n",
    "# Por ejemplo:\n",
    "# response = requests.get(url, params=params)\n",
    "# data = response.json()\n",
    "# df_reviews = pd.DataFrame(data['reviews'])\n",
    "\n",
    "# Para la simulación, creamos un dataframe vacío\n",
    "df_reviews = pd.DataFrame()  \n",
    "print(\"Simulación: Datos de reseñas importados correctamente.\")\n"
   ]
  },
  {
   "cell_type": "code",
   "execution_count": 5,
   "metadata": {},
   "outputs": [
    {
     "name": "stderr",
     "output_type": "stream",
     "text": [
      "\"kaggle\" no se reconoce como un comando interno o externo,\n",
      "programa o archivo por lotes ejecutable.\n",
      "\"unzip\" no se reconoce como un comando interno o externo,\n",
      "programa o archivo por lotes ejecutable.\n"
     ]
    },
    {
     "ename": "FileNotFoundError",
     "evalue": "[Errno 2] No such file or directory: 'steam_reviews.csv'",
     "output_type": "error",
     "traceback": [
      "\u001b[31m---------------------------------------------------------------------------\u001b[39m",
      "\u001b[31mFileNotFoundError\u001b[39m                         Traceback (most recent call last)",
      "\u001b[36mCell\u001b[39m\u001b[36m \u001b[39m\u001b[32mIn[5]\u001b[39m\u001b[32m, line 12\u001b[39m\n\u001b[32m      9\u001b[39m \u001b[38;5;28;01mimport\u001b[39;00m\u001b[38;5;250m \u001b[39m\u001b[34;01mpandas\u001b[39;00m\u001b[38;5;250m \u001b[39m\u001b[38;5;28;01mas\u001b[39;00m\u001b[38;5;250m \u001b[39m\u001b[34;01mpd\u001b[39;00m\n\u001b[32m     11\u001b[39m \u001b[38;5;66;03m# Asumimos que el archivo descomprimido se llama 'steam_reviews.csv'\u001b[39;00m\n\u001b[32m---> \u001b[39m\u001b[32m12\u001b[39m df = \u001b[43mpd\u001b[49m\u001b[43m.\u001b[49m\u001b[43mread_csv\u001b[49m\u001b[43m(\u001b[49m\u001b[33;43m'\u001b[39;49m\u001b[33;43msteam_reviews.csv\u001b[39;49m\u001b[33;43m'\u001b[39;49m\u001b[43m)\u001b[49m\n\u001b[32m     14\u001b[39m \u001b[38;5;66;03m# Mostrar las primeras filas para entender la estructura del DataFrame\u001b[39;00m\n\u001b[32m     15\u001b[39m \u001b[38;5;28mprint\u001b[39m(\u001b[33m\"\u001b[39m\u001b[33mPrimeras filas del DataFrame:\u001b[39m\u001b[33m\"\u001b[39m)\n",
      "\u001b[36mFile \u001b[39m\u001b[32md:\\VMLap\\Programas\\Apps para programar\\Trabajos\\PROGRAMACION DE MINERIA DE DATOS\\Tareas\\tareas_venv\\Lib\\site-packages\\pandas\\io\\parsers\\readers.py:1026\u001b[39m, in \u001b[36mread_csv\u001b[39m\u001b[34m(filepath_or_buffer, sep, delimiter, header, names, index_col, usecols, dtype, engine, converters, true_values, false_values, skipinitialspace, skiprows, skipfooter, nrows, na_values, keep_default_na, na_filter, verbose, skip_blank_lines, parse_dates, infer_datetime_format, keep_date_col, date_parser, date_format, dayfirst, cache_dates, iterator, chunksize, compression, thousands, decimal, lineterminator, quotechar, quoting, doublequote, escapechar, comment, encoding, encoding_errors, dialect, on_bad_lines, delim_whitespace, low_memory, memory_map, float_precision, storage_options, dtype_backend)\u001b[39m\n\u001b[32m   1013\u001b[39m kwds_defaults = _refine_defaults_read(\n\u001b[32m   1014\u001b[39m     dialect,\n\u001b[32m   1015\u001b[39m     delimiter,\n\u001b[32m   (...)\u001b[39m\u001b[32m   1022\u001b[39m     dtype_backend=dtype_backend,\n\u001b[32m   1023\u001b[39m )\n\u001b[32m   1024\u001b[39m kwds.update(kwds_defaults)\n\u001b[32m-> \u001b[39m\u001b[32m1026\u001b[39m \u001b[38;5;28;01mreturn\u001b[39;00m \u001b[43m_read\u001b[49m\u001b[43m(\u001b[49m\u001b[43mfilepath_or_buffer\u001b[49m\u001b[43m,\u001b[49m\u001b[43m \u001b[49m\u001b[43mkwds\u001b[49m\u001b[43m)\u001b[49m\n",
      "\u001b[36mFile \u001b[39m\u001b[32md:\\VMLap\\Programas\\Apps para programar\\Trabajos\\PROGRAMACION DE MINERIA DE DATOS\\Tareas\\tareas_venv\\Lib\\site-packages\\pandas\\io\\parsers\\readers.py:620\u001b[39m, in \u001b[36m_read\u001b[39m\u001b[34m(filepath_or_buffer, kwds)\u001b[39m\n\u001b[32m    617\u001b[39m _validate_names(kwds.get(\u001b[33m\"\u001b[39m\u001b[33mnames\u001b[39m\u001b[33m\"\u001b[39m, \u001b[38;5;28;01mNone\u001b[39;00m))\n\u001b[32m    619\u001b[39m \u001b[38;5;66;03m# Create the parser.\u001b[39;00m\n\u001b[32m--> \u001b[39m\u001b[32m620\u001b[39m parser = \u001b[43mTextFileReader\u001b[49m\u001b[43m(\u001b[49m\u001b[43mfilepath_or_buffer\u001b[49m\u001b[43m,\u001b[49m\u001b[43m \u001b[49m\u001b[43m*\u001b[49m\u001b[43m*\u001b[49m\u001b[43mkwds\u001b[49m\u001b[43m)\u001b[49m\n\u001b[32m    622\u001b[39m \u001b[38;5;28;01mif\u001b[39;00m chunksize \u001b[38;5;129;01mor\u001b[39;00m iterator:\n\u001b[32m    623\u001b[39m     \u001b[38;5;28;01mreturn\u001b[39;00m parser\n",
      "\u001b[36mFile \u001b[39m\u001b[32md:\\VMLap\\Programas\\Apps para programar\\Trabajos\\PROGRAMACION DE MINERIA DE DATOS\\Tareas\\tareas_venv\\Lib\\site-packages\\pandas\\io\\parsers\\readers.py:1620\u001b[39m, in \u001b[36mTextFileReader.__init__\u001b[39m\u001b[34m(self, f, engine, **kwds)\u001b[39m\n\u001b[32m   1617\u001b[39m     \u001b[38;5;28mself\u001b[39m.options[\u001b[33m\"\u001b[39m\u001b[33mhas_index_names\u001b[39m\u001b[33m\"\u001b[39m] = kwds[\u001b[33m\"\u001b[39m\u001b[33mhas_index_names\u001b[39m\u001b[33m\"\u001b[39m]\n\u001b[32m   1619\u001b[39m \u001b[38;5;28mself\u001b[39m.handles: IOHandles | \u001b[38;5;28;01mNone\u001b[39;00m = \u001b[38;5;28;01mNone\u001b[39;00m\n\u001b[32m-> \u001b[39m\u001b[32m1620\u001b[39m \u001b[38;5;28mself\u001b[39m._engine = \u001b[38;5;28;43mself\u001b[39;49m\u001b[43m.\u001b[49m\u001b[43m_make_engine\u001b[49m\u001b[43m(\u001b[49m\u001b[43mf\u001b[49m\u001b[43m,\u001b[49m\u001b[43m \u001b[49m\u001b[38;5;28;43mself\u001b[39;49m\u001b[43m.\u001b[49m\u001b[43mengine\u001b[49m\u001b[43m)\u001b[49m\n",
      "\u001b[36mFile \u001b[39m\u001b[32md:\\VMLap\\Programas\\Apps para programar\\Trabajos\\PROGRAMACION DE MINERIA DE DATOS\\Tareas\\tareas_venv\\Lib\\site-packages\\pandas\\io\\parsers\\readers.py:1880\u001b[39m, in \u001b[36mTextFileReader._make_engine\u001b[39m\u001b[34m(self, f, engine)\u001b[39m\n\u001b[32m   1878\u001b[39m     \u001b[38;5;28;01mif\u001b[39;00m \u001b[33m\"\u001b[39m\u001b[33mb\u001b[39m\u001b[33m\"\u001b[39m \u001b[38;5;129;01mnot\u001b[39;00m \u001b[38;5;129;01min\u001b[39;00m mode:\n\u001b[32m   1879\u001b[39m         mode += \u001b[33m\"\u001b[39m\u001b[33mb\u001b[39m\u001b[33m\"\u001b[39m\n\u001b[32m-> \u001b[39m\u001b[32m1880\u001b[39m \u001b[38;5;28mself\u001b[39m.handles = \u001b[43mget_handle\u001b[49m\u001b[43m(\u001b[49m\n\u001b[32m   1881\u001b[39m \u001b[43m    \u001b[49m\u001b[43mf\u001b[49m\u001b[43m,\u001b[49m\n\u001b[32m   1882\u001b[39m \u001b[43m    \u001b[49m\u001b[43mmode\u001b[49m\u001b[43m,\u001b[49m\n\u001b[32m   1883\u001b[39m \u001b[43m    \u001b[49m\u001b[43mencoding\u001b[49m\u001b[43m=\u001b[49m\u001b[38;5;28;43mself\u001b[39;49m\u001b[43m.\u001b[49m\u001b[43moptions\u001b[49m\u001b[43m.\u001b[49m\u001b[43mget\u001b[49m\u001b[43m(\u001b[49m\u001b[33;43m\"\u001b[39;49m\u001b[33;43mencoding\u001b[39;49m\u001b[33;43m\"\u001b[39;49m\u001b[43m,\u001b[49m\u001b[43m \u001b[49m\u001b[38;5;28;43;01mNone\u001b[39;49;00m\u001b[43m)\u001b[49m\u001b[43m,\u001b[49m\n\u001b[32m   1884\u001b[39m \u001b[43m    \u001b[49m\u001b[43mcompression\u001b[49m\u001b[43m=\u001b[49m\u001b[38;5;28;43mself\u001b[39;49m\u001b[43m.\u001b[49m\u001b[43moptions\u001b[49m\u001b[43m.\u001b[49m\u001b[43mget\u001b[49m\u001b[43m(\u001b[49m\u001b[33;43m\"\u001b[39;49m\u001b[33;43mcompression\u001b[39;49m\u001b[33;43m\"\u001b[39;49m\u001b[43m,\u001b[49m\u001b[43m \u001b[49m\u001b[38;5;28;43;01mNone\u001b[39;49;00m\u001b[43m)\u001b[49m\u001b[43m,\u001b[49m\n\u001b[32m   1885\u001b[39m \u001b[43m    \u001b[49m\u001b[43mmemory_map\u001b[49m\u001b[43m=\u001b[49m\u001b[38;5;28;43mself\u001b[39;49m\u001b[43m.\u001b[49m\u001b[43moptions\u001b[49m\u001b[43m.\u001b[49m\u001b[43mget\u001b[49m\u001b[43m(\u001b[49m\u001b[33;43m\"\u001b[39;49m\u001b[33;43mmemory_map\u001b[39;49m\u001b[33;43m\"\u001b[39;49m\u001b[43m,\u001b[49m\u001b[43m \u001b[49m\u001b[38;5;28;43;01mFalse\u001b[39;49;00m\u001b[43m)\u001b[49m\u001b[43m,\u001b[49m\n\u001b[32m   1886\u001b[39m \u001b[43m    \u001b[49m\u001b[43mis_text\u001b[49m\u001b[43m=\u001b[49m\u001b[43mis_text\u001b[49m\u001b[43m,\u001b[49m\n\u001b[32m   1887\u001b[39m \u001b[43m    \u001b[49m\u001b[43merrors\u001b[49m\u001b[43m=\u001b[49m\u001b[38;5;28;43mself\u001b[39;49m\u001b[43m.\u001b[49m\u001b[43moptions\u001b[49m\u001b[43m.\u001b[49m\u001b[43mget\u001b[49m\u001b[43m(\u001b[49m\u001b[33;43m\"\u001b[39;49m\u001b[33;43mencoding_errors\u001b[39;49m\u001b[33;43m\"\u001b[39;49m\u001b[43m,\u001b[49m\u001b[43m \u001b[49m\u001b[33;43m\"\u001b[39;49m\u001b[33;43mstrict\u001b[39;49m\u001b[33;43m\"\u001b[39;49m\u001b[43m)\u001b[49m\u001b[43m,\u001b[49m\n\u001b[32m   1888\u001b[39m \u001b[43m    \u001b[49m\u001b[43mstorage_options\u001b[49m\u001b[43m=\u001b[49m\u001b[38;5;28;43mself\u001b[39;49m\u001b[43m.\u001b[49m\u001b[43moptions\u001b[49m\u001b[43m.\u001b[49m\u001b[43mget\u001b[49m\u001b[43m(\u001b[49m\u001b[33;43m\"\u001b[39;49m\u001b[33;43mstorage_options\u001b[39;49m\u001b[33;43m\"\u001b[39;49m\u001b[43m,\u001b[49m\u001b[43m \u001b[49m\u001b[38;5;28;43;01mNone\u001b[39;49;00m\u001b[43m)\u001b[49m\u001b[43m,\u001b[49m\n\u001b[32m   1889\u001b[39m \u001b[43m\u001b[49m\u001b[43m)\u001b[49m\n\u001b[32m   1890\u001b[39m \u001b[38;5;28;01massert\u001b[39;00m \u001b[38;5;28mself\u001b[39m.handles \u001b[38;5;129;01mis\u001b[39;00m \u001b[38;5;129;01mnot\u001b[39;00m \u001b[38;5;28;01mNone\u001b[39;00m\n\u001b[32m   1891\u001b[39m f = \u001b[38;5;28mself\u001b[39m.handles.handle\n",
      "\u001b[36mFile \u001b[39m\u001b[32md:\\VMLap\\Programas\\Apps para programar\\Trabajos\\PROGRAMACION DE MINERIA DE DATOS\\Tareas\\tareas_venv\\Lib\\site-packages\\pandas\\io\\common.py:873\u001b[39m, in \u001b[36mget_handle\u001b[39m\u001b[34m(path_or_buf, mode, encoding, compression, memory_map, is_text, errors, storage_options)\u001b[39m\n\u001b[32m    868\u001b[39m \u001b[38;5;28;01melif\u001b[39;00m \u001b[38;5;28misinstance\u001b[39m(handle, \u001b[38;5;28mstr\u001b[39m):\n\u001b[32m    869\u001b[39m     \u001b[38;5;66;03m# Check whether the filename is to be opened in binary mode.\u001b[39;00m\n\u001b[32m    870\u001b[39m     \u001b[38;5;66;03m# Binary mode does not support 'encoding' and 'newline'.\u001b[39;00m\n\u001b[32m    871\u001b[39m     \u001b[38;5;28;01mif\u001b[39;00m ioargs.encoding \u001b[38;5;129;01mand\u001b[39;00m \u001b[33m\"\u001b[39m\u001b[33mb\u001b[39m\u001b[33m\"\u001b[39m \u001b[38;5;129;01mnot\u001b[39;00m \u001b[38;5;129;01min\u001b[39;00m ioargs.mode:\n\u001b[32m    872\u001b[39m         \u001b[38;5;66;03m# Encoding\u001b[39;00m\n\u001b[32m--> \u001b[39m\u001b[32m873\u001b[39m         handle = \u001b[38;5;28;43mopen\u001b[39;49m\u001b[43m(\u001b[49m\n\u001b[32m    874\u001b[39m \u001b[43m            \u001b[49m\u001b[43mhandle\u001b[49m\u001b[43m,\u001b[49m\n\u001b[32m    875\u001b[39m \u001b[43m            \u001b[49m\u001b[43mioargs\u001b[49m\u001b[43m.\u001b[49m\u001b[43mmode\u001b[49m\u001b[43m,\u001b[49m\n\u001b[32m    876\u001b[39m \u001b[43m            \u001b[49m\u001b[43mencoding\u001b[49m\u001b[43m=\u001b[49m\u001b[43mioargs\u001b[49m\u001b[43m.\u001b[49m\u001b[43mencoding\u001b[49m\u001b[43m,\u001b[49m\n\u001b[32m    877\u001b[39m \u001b[43m            \u001b[49m\u001b[43merrors\u001b[49m\u001b[43m=\u001b[49m\u001b[43merrors\u001b[49m\u001b[43m,\u001b[49m\n\u001b[32m    878\u001b[39m \u001b[43m            \u001b[49m\u001b[43mnewline\u001b[49m\u001b[43m=\u001b[49m\u001b[33;43m\"\u001b[39;49m\u001b[33;43m\"\u001b[39;49m\u001b[43m,\u001b[49m\n\u001b[32m    879\u001b[39m \u001b[43m        \u001b[49m\u001b[43m)\u001b[49m\n\u001b[32m    880\u001b[39m     \u001b[38;5;28;01melse\u001b[39;00m:\n\u001b[32m    881\u001b[39m         \u001b[38;5;66;03m# Binary mode\u001b[39;00m\n\u001b[32m    882\u001b[39m         handle = \u001b[38;5;28mopen\u001b[39m(handle, ioargs.mode)\n",
      "\u001b[31mFileNotFoundError\u001b[39m: [Errno 2] No such file or directory: 'steam_reviews.csv'"
     ]
    }
   ],
   "source": [
    "# Descargar el dataset de reseñas de Steam desde Kaggle\n",
    "# Asegúrate de tener configurado el API de Kaggle (archivo kaggle.json en ~/.kaggle/)\n",
    "!kaggle datasets download -d andrewmvd/steam-reviews-data\n",
    "\n",
    "# Descomprimir el dataset descargado (se sobreescriben archivos existentes si los hay)\n",
    "!unzip -o steam-reviews-data.zip\n",
    "\n",
    "# Cargar el dataset en un DataFrame de pandas\n",
    "import pandas as pd\n",
    "\n",
    "# Asumimos que el archivo descomprimido se llama 'steam_reviews.csv'\n",
    "df = pd.read_csv('steam_reviews.csv')\n",
    "\n",
    "# Mostrar las primeras filas para entender la estructura del DataFrame\n",
    "print(\"Primeras filas del DataFrame:\")\n",
    "print(df.head())\n",
    "\n",
    "# Filtrar las reseñas del juego con ID 2246340 (Monster Hunter: Wilds)\n",
    "# Se asume que la columna 'appid' almacena el ID de cada juego\n",
    "app_id = 2246340\n",
    "df_game = df[df['appid'] == app_id]\n",
    "\n",
    "# Si existe una columna 'language', filtramos las reseñas en español\n",
    "if 'language' in df_game.columns:\n",
    "    df_game = df_game[df_game['language'] == 'spanish']\n",
    "\n",
    "# Validación: Mostrar información básica y número de reseñas importadas\n",
    "print(\"\\nInformación del DataFrame para el juego con ID\", app_id)\n",
    "print(df_game.info())\n",
    "print(\"\\nNúmero de reseñas importadas:\", df_game.shape[0])\n"
   ]
  },
  {
   "cell_type": "markdown",
   "metadata": {},
   "source": [
    "Validacion del DataFrame"
   ]
  },
  {
   "cell_type": "code",
   "execution_count": 4,
   "metadata": {},
   "outputs": [
    {
     "name": "stdout",
     "output_type": "stream",
     "text": [
      "Información del DataFrame de reseñas:\n",
      "<class 'pandas.core.frame.DataFrame'>\n",
      "RangeIndex: 0 entries\n",
      "Empty DataFrame\n",
      "None\n"
     ]
    }
   ],
   "source": [
    "# Mostrar información básica del dataframe (columnas, filas, encabezados)\n",
    "print(\"Información del DataFrame de reseñas:\")\n",
    "print(df_reviews.info())\n"
   ]
  },
  {
   "cell_type": "code",
   "execution_count": null,
   "metadata": {},
   "outputs": [],
   "source": [
    "#Librerias\n",
    "#import pandas as pd\n",
    "#import numpy as np\n",
    "#import matplotlib.pyplot as plt\n",
    "#import seaborn as sns\n",
    "#import os\n",
    "\n",
    "#from skimage import io\n",
    "#from sklearn.preprocessing import StandardScaler\n",
    "#from sklearn.preprocessing import OneHotEncoder\n",
    "#from sklearn.model_selection import train_test_split\n",
    "#from sklearn.metrics import accuracy_score\n",
    "#from skimage.transform import resize\n",
    "\n",
    "# Procesamiento de lenguaje Natural\n",
    "#import nltk\n",
    "\n",
    "#Importación de la Librería TensorFlow\n",
    "#import tensorflow as tf\n",
    "#from tensorflow.keras.layers import Dense\n",
    "#from tensorflow.keras.callbacks import TensorBoard\n",
    "#from keras.preprocessing.image import ImageDataGenerator\n",
    "#from tensorflow.keras.preprocessing.image import ImageDataGenerator\n",
    "#from tensorflow.keras.layers import Conv2D, MaxPooling2D, Dropout, Flatten, Dense, Activation, BatchNormalization\n"
   ]
  }
 ],
 "metadata": {
  "kernelspec": {
   "display_name": "tareas_venv",
   "language": "python",
   "name": "python3"
  },
  "language_info": {
   "codemirror_mode": {
    "name": "ipython",
    "version": 3
   },
   "file_extension": ".py",
   "mimetype": "text/x-python",
   "name": "python",
   "nbconvert_exporter": "python",
   "pygments_lexer": "ipython3",
   "version": "3.12.4"
  }
 },
 "nbformat": 4,
 "nbformat_minor": 4
}
