{
 "cells": [
  {
   "cell_type": "markdown",
   "metadata": {},
   "source": [
    "# Analisis de Sentimientos en reseñas de Steam.\n",
    "**Nombre**\n",
    "**Fecha**\n",
    "**Materia**\n",
    "\n",
    "## Descripcion\n",
    "> text"
   ]
  },
  {
   "cell_type": "markdown",
   "metadata": {},
   "source": [
    "## Importacion de librerias\n",
    "\n",
    "\n",
    "Aquí se importan las librerías esenciales para el procesamiento de lenguaje natural, análisis de datos y visualización. Utilizaremos nltk para el análisis de texto, pandas para la manipulación de dataframes, matplotlib y seaborn para graficar, y otras librerías como re y random para tareas específicas.\n",
    "\n",
    "- `nltk` : Para el analisis de texto\n",
    "- `pandas` : Para Para la manipulacion de dataframes\n",
    "- `matplotlib y seaborn` : Para graficar\n",
    "- `re` : Para expresiones regulares"
   ]
  },
  {
   "cell_type": "code",
   "execution_count": 1,
   "metadata": {},
   "outputs": [
    {
     "name": "stdout",
     "output_type": "stream",
     "text": [
      "Librerías importadas correctamente para el procesamiento de lenguaje natural.\n"
     ]
    }
   ],
   "source": [
    "# Importación de librerías para Procesamiento de Lenguaje Natural\n",
    "import nltk\n",
    "import pandas as pd\n",
    "import matplotlib.pyplot as plt\n",
    "import re\n",
    "import seaborn as sns\n",
    "import random\n",
    "import requests\n",
    "\n",
    "from nltk.corpus import stopwords\n",
    "from nltk import ngrams\n",
    "\n",
    "# Descargar recursos de nltk, como stopwords\n",
    "#nltk.download('punkt')\n",
    "#nltk.download('stopwords')\n",
    "\n",
    "# Confirmación de importación\n",
    "print(\"Librerías importadas correctamente para el procesamiento de lenguaje natural.\")"
   ]
  },
  {
   "cell_type": "markdown",
   "metadata": {},
   "source": [
    "## Importacion de Datos de Steam\n",
    "En esta parte se explica como obtener las reseñas de Steam. Se pueden extraer mediante la API de Steam, utilizando el siguiente endpoint:\n",
    "\n",
    "`GET https://store.steampowered.com/appreviews/<id_de_aplicación>?json=1`\n",
    "Se indican algunos parametros utiles como lo son:\n",
    "- `filter`\n",
    "- `language`\n",
    "- `day_range`\n",
    "- `cursor`\n",
    "- `review_type`\n",
    "- `num_per_page`\n",
    "- `filter_offtopic_activity`\n",
    "\n",
    "Para saber mas de los parametros puedes ir a [Steam API](https://partner.steamgames.com/doc/store/getreviews)\n",
    "\n",
    "En esta parte se hace la peticion del endpoint mediante el `id del juego` con los parametros adecuados (En este caso, se extraen 100 reseñas por pagina en lenguaje de español).\n",
    "La respuesta se presenta en estructura JSON devuelto y psoteriormente se carga en un DataFrame de *Pandas* para hacer el análisis"
   ]
  },
  {
   "cell_type": "code",
   "execution_count": 2,
   "metadata": {},
   "outputs": [
    {
     "name": "stdout",
     "output_type": "stream",
     "text": [
      "Información del DataFrame:\n",
      "<class 'pandas.core.frame.DataFrame'>\n",
      "RangeIndex: 100 entries, 0 to 99\n",
      "Data columns (total 15 columns):\n",
      " #   Column                       Non-Null Count  Dtype \n",
      "---  ------                       --------------  ----- \n",
      " 0   recommendationid             100 non-null    object\n",
      " 1   author                       100 non-null    object\n",
      " 2   language                     100 non-null    object\n",
      " 3   review                       100 non-null    object\n",
      " 4   timestamp_created            100 non-null    int64 \n",
      " 5   timestamp_updated            100 non-null    int64 \n",
      " 6   voted_up                     100 non-null    bool  \n",
      " 7   votes_up                     100 non-null    int64 \n",
      " 8   votes_funny                  100 non-null    int64 \n",
      " 9   weighted_vote_score          100 non-null    object\n",
      " 10  comment_count                100 non-null    int64 \n",
      " 11  steam_purchase               100 non-null    bool  \n",
      " 12  received_for_free            100 non-null    bool  \n",
      " 13  written_during_early_access  100 non-null    bool  \n",
      " 14  primarily_steam_deck         100 non-null    bool  \n",
      "dtypes: bool(5), int64(5), object(5)\n",
      "memory usage: 8.4+ KB\n",
      "None\n"
     ]
    }
   ],
   "source": [
    "# URL de la API de Steam para obtener reseñas en español (100 reseñas)\n",
    "id_game = \"2246340\"             # Monster Hunter Wilds = 2246340\n",
    "language = \"spanish\"            # Idioma de las reseñas\n",
    "num_per_page = \"100\"            # Número de reseñas por página\n",
    "url = f\"https://store.steampowered.com/appreviews/{id_game}?json=1&language={language}&num_per_page={num_per_page}\"\n",
    "\n",
    "\n",
    "# Realizar la solicitud a la API\n",
    "response = requests.get(url)\n",
    "data = response.json()\n",
    "\n",
    "# Extraer las reseñas del JSON\n",
    "reviews = data.get('reviews', [])\n",
    "\n",
    "# Crear un DataFrame a partir de las reseñas\n",
    "df_reviews = pd.DataFrame(reviews)\n",
    "\n",
    "# Mostrar información básica del DataFrame\n",
    "print(\"Información del DataFrame:\")\n",
    "print(df_reviews.info())\n"
   ]
  },
  {
   "cell_type": "code",
   "execution_count": null,
   "metadata": {},
   "outputs": [
    {
     "name": "stdout",
     "output_type": "stream",
     "text": [
      "\n",
      "Primeras filas del DataFrame completo:\n"
     ]
    },
    {
     "data": {
      "text/html": [
       "<div>\n",
       "<style scoped>\n",
       "    .dataframe tbody tr th:only-of-type {\n",
       "        vertical-align: middle;\n",
       "    }\n",
       "\n",
       "    .dataframe tbody tr th {\n",
       "        vertical-align: top;\n",
       "    }\n",
       "\n",
       "    .dataframe thead th {\n",
       "        text-align: right;\n",
       "    }\n",
       "</style>\n",
       "<table border=\"1\" class=\"dataframe\">\n",
       "  <thead>\n",
       "    <tr style=\"text-align: right;\">\n",
       "      <th></th>\n",
       "      <th>recommendationid</th>\n",
       "      <th>author</th>\n",
       "      <th>language</th>\n",
       "      <th>review</th>\n",
       "      <th>timestamp_created</th>\n",
       "      <th>timestamp_updated</th>\n",
       "      <th>voted_up</th>\n",
       "      <th>votes_up</th>\n",
       "      <th>votes_funny</th>\n",
       "      <th>weighted_vote_score</th>\n",
       "      <th>comment_count</th>\n",
       "      <th>steam_purchase</th>\n",
       "      <th>received_for_free</th>\n",
       "      <th>written_during_early_access</th>\n",
       "      <th>primarily_steam_deck</th>\n",
       "    </tr>\n",
       "  </thead>\n",
       "  <tbody>\n",
       "    <tr>\n",
       "      <th>0</th>\n",
       "      <td>189321117</td>\n",
       "      <td>{'steamid': '76561198138131071', 'num_games_ow...</td>\n",
       "      <td>spanish</td>\n",
       "      <td>AMO el juego, es demasiado bueno y la verdad e...</td>\n",
       "      <td>1741064282</td>\n",
       "      <td>1741840734</td>\n",
       "      <td>False</td>\n",
       "      <td>135</td>\n",
       "      <td>6</td>\n",
       "      <td>0.832816362380981445</td>\n",
       "      <td>0</td>\n",
       "      <td>True</td>\n",
       "      <td>False</td>\n",
       "      <td>False</td>\n",
       "      <td>False</td>\n",
       "    </tr>\n",
       "    <tr>\n",
       "      <th>1</th>\n",
       "      <td>188940182</td>\n",
       "      <td>{'steamid': '76561198049254557', 'num_games_ow...</td>\n",
       "      <td>spanish</td>\n",
       "      <td>Basta ya. Basta de sacar productos incompletos...</td>\n",
       "      <td>1740743526</td>\n",
       "      <td>1740743526</td>\n",
       "      <td>False</td>\n",
       "      <td>79</td>\n",
       "      <td>3</td>\n",
       "      <td>0.70836329460144043</td>\n",
       "      <td>0</td>\n",
       "      <td>True</td>\n",
       "      <td>False</td>\n",
       "      <td>False</td>\n",
       "      <td>False</td>\n",
       "    </tr>\n",
       "    <tr>\n",
       "      <th>2</th>\n",
       "      <td>189266847</td>\n",
       "      <td>{'steamid': '76561198066270836', 'num_games_ow...</td>\n",
       "      <td>spanish</td>\n",
       "      <td>Uno de los mejores juegos de la historia sin d...</td>\n",
       "      <td>1741010357</td>\n",
       "      <td>1741010357</td>\n",
       "      <td>True</td>\n",
       "      <td>23</td>\n",
       "      <td>2</td>\n",
       "      <td>0.706308245658874512</td>\n",
       "      <td>1</td>\n",
       "      <td>True</td>\n",
       "      <td>False</td>\n",
       "      <td>False</td>\n",
       "      <td>False</td>\n",
       "    </tr>\n",
       "    <tr>\n",
       "      <th>3</th>\n",
       "      <td>189254007</td>\n",
       "      <td>{'steamid': '76561198010057144', 'num_games_ow...</td>\n",
       "      <td>spanish</td>\n",
       "      <td>As a Monster Hunter game, it's absolutely supe...</td>\n",
       "      <td>1740997022</td>\n",
       "      <td>1740997022</td>\n",
       "      <td>False</td>\n",
       "      <td>48</td>\n",
       "      <td>3</td>\n",
       "      <td>0.693980157375335693</td>\n",
       "      <td>5</td>\n",
       "      <td>True</td>\n",
       "      <td>False</td>\n",
       "      <td>False</td>\n",
       "      <td>False</td>\n",
       "    </tr>\n",
       "    <tr>\n",
       "      <th>4</th>\n",
       "      <td>188929055</td>\n",
       "      <td>{'steamid': '76561198417230907', 'num_games_ow...</td>\n",
       "      <td>spanish</td>\n",
       "      <td>el juego de la banana esta mejor optimizado \\n...</td>\n",
       "      <td>1740735215</td>\n",
       "      <td>1740751024</td>\n",
       "      <td>True</td>\n",
       "      <td>30</td>\n",
       "      <td>0</td>\n",
       "      <td>0.71985316276550293</td>\n",
       "      <td>0</td>\n",
       "      <td>True</td>\n",
       "      <td>False</td>\n",
       "      <td>False</td>\n",
       "      <td>False</td>\n",
       "    </tr>\n",
       "  </tbody>\n",
       "</table>\n",
       "</div>"
      ],
      "text/plain": [
       "  recommendationid                                             author  \\\n",
       "0        189321117  {'steamid': '76561198138131071', 'num_games_ow...   \n",
       "1        188940182  {'steamid': '76561198049254557', 'num_games_ow...   \n",
       "2        189266847  {'steamid': '76561198066270836', 'num_games_ow...   \n",
       "3        189254007  {'steamid': '76561198010057144', 'num_games_ow...   \n",
       "4        188929055  {'steamid': '76561198417230907', 'num_games_ow...   \n",
       "\n",
       "  language                                             review  \\\n",
       "0  spanish  AMO el juego, es demasiado bueno y la verdad e...   \n",
       "1  spanish  Basta ya. Basta de sacar productos incompletos...   \n",
       "2  spanish  Uno de los mejores juegos de la historia sin d...   \n",
       "3  spanish  As a Monster Hunter game, it's absolutely supe...   \n",
       "4  spanish  el juego de la banana esta mejor optimizado \\n...   \n",
       "\n",
       "   timestamp_created  timestamp_updated  voted_up  votes_up  votes_funny  \\\n",
       "0         1741064282         1741840734     False       135            6   \n",
       "1         1740743526         1740743526     False        79            3   \n",
       "2         1741010357         1741010357      True        23            2   \n",
       "3         1740997022         1740997022     False        48            3   \n",
       "4         1740735215         1740751024      True        30            0   \n",
       "\n",
       "    weighted_vote_score  comment_count  steam_purchase  received_for_free  \\\n",
       "0  0.832816362380981445              0            True              False   \n",
       "1   0.70836329460144043              0            True              False   \n",
       "2  0.706308245658874512              1            True              False   \n",
       "3  0.693980157375335693              5            True              False   \n",
       "4   0.71985316276550293              0            True              False   \n",
       "\n",
       "   written_during_early_access  primarily_steam_deck  \n",
       "0                        False                 False  \n",
       "1                        False                 False  \n",
       "2                        False                 False  \n",
       "3                        False                 False  \n",
       "4                        False                 False  "
      ]
     },
     "execution_count": 3,
     "metadata": {},
     "output_type": "execute_result"
    }
   ],
   "source": [
    "# Mostar las primeras filas del DataFrame completo\n",
    "print(\"\\nPrimeras filas del DataFrame completo:\")\n",
    "df_reviews.head(5)"
   ]
  },
  {
   "cell_type": "code",
   "execution_count": null,
   "metadata": {},
   "outputs": [],
   "source": [
    "# Prueba solo comentarios\n",
    "# DataFrame para unicamente la columna de review y salga completamente el texto\n",
    "df_reviewsComments = df_reviews[['review']]\n",
    "df_reviewsComments.head(5)"
   ]
  },
  {
   "cell_type": "markdown",
   "metadata": {},
   "source": [
    "## Limpieza de texto (Stopwords)\n",
    "En esta seccion se muestra como limpiar el texto de las reseñas, removiendo stopwords en español para preparar el analisis. Se utilizan las stopwords de *nltk*\n"
   ]
  },
  {
   "cell_type": "code",
   "execution_count": null,
   "metadata": {},
   "outputs": [
    {
     "name": "stdout",
     "output_type": "stream",
     "text": [
      "Reseña original (Antes de hacer 'stopwords'):\n",
      "AMO el juego, es demasiado bueno y la verdad es que superó todas mi expectativas,\n",
      "PERO, tiene una de las peores optimizaciones que he visto en mi vida, necesita parchearse URGENTE\n",
      "\n",
      "Reseña limpia (sin stopwords):\n",
      "amo juego demasiado bueno verdad superó todas expectativas peores optimizaciones visto vida necesita parchearse urgente\n"
     ]
    }
   ],
   "source": [
    "# Definir las stopwords en español\n",
    "stop_words = set(stopwords.words('spanish'))\n",
    "\n",
    "# Funcion para limpiar una reseña eliminando con stopwords\n",
    "review = df_reviews['review'][0]                                    #Tomando la primera reseña\n",
    "words = nltk.word_tokenize(review.lower(), language='spanish')      #Tokenizando la reseña\n",
    "clean_words = [word for word in words if word not in stop_words and word.isalpha()]\n",
    "\n",
    "print(\"Reseña original (Antes de hacer 'stopwords'):\")\n",
    "print(review)\n",
    "print(\"\\nReseña limpia (sin stopwords):\")\n",
    "print(\" \".join(clean_words))\n",
    "#Almacenarlo en un dataframe\n",
    "\n"
   ]
  },
  {
   "cell_type": "markdown",
   "metadata": {},
   "source": [
    "## Tokenizacion\n",
    "En esta seccion ilustra el proceso de tokenizacion, dividiendo el texto en palabras (tokens) para facilitar el analisis posterior\n"
   ]
  },
  {
   "cell_type": "code",
   "execution_count": null,
   "metadata": {},
   "outputs": [
    {
     "name": "stdout",
     "output_type": "stream",
     "text": [
      "Tokens de la reseña:\n",
      "['AMO', 'el', 'juego', ',', 'es', 'demasiado', 'bueno', 'y', 'la', 'verdad', 'es', 'que', 'superó', 'todas', 'mi', 'expectativas', ',', 'PERO', ',', 'tiene', 'una', 'de', 'las', 'peores', 'optimizaciones', 'que', 'he', 'visto', 'en', 'mi', 'vida', ',', 'necesita', 'parchearse', 'URGENTE']\n"
     ]
    }
   ],
   "source": [
    "# Tokenización de una reseña (utilizando la misma reseña de ejemplo)\n",
    "tokens = nltk.word_tokenize(review, language='spanish')\n",
    "print(\"Tokens de la reseña:\")\n",
    "print(tokens)\n"
   ]
  },
  {
   "cell_type": "markdown",
   "metadata": {},
   "source": [
    "## Obtener la reseña mas larga\n",
    "A continuacion se extrae de las reseñas la que tenga mayor cantidad de caracteres o palabras."
   ]
  },
  {
   "cell_type": "code",
   "execution_count": 6,
   "metadata": {},
   "outputs": [
    {
     "name": "stdout",
     "output_type": "stream",
     "text": [
      "La reseña más larga es:\n",
      "Gráficamente - es muy bello. apreciar los cambios en los biomas de abundante, sequía o el ambiente característico de la zona, ver como se desenvuelve en la zona los monstruos en ella. el como la fauna aporta en estos bellos lugares, lo juego en calidad media llegando a baja, la 3060 laptop no quiere mas. de rendimiento es raro puedo estar muy estable cazando pero entro a los campamentos y todo se arruina, se puede decir que va mas o menos. tengo que ser auto critico no puedo \n",
      "pedirle mucho a una laptop del 2021.\n",
      "\n",
      "Historia - Me parece interesante el como se ingresa a el tema de las civilizaciones anteriores [spoiler] Sobretodo en las clonaciones y mejoras genéticas que lograron, o las forma de generar energía infinita mediante a un liquido [/spoiler]. pero la historia donde te conviertes en el pokemon del gremio o si lo ves de forma mas bonita el Alucard de integra Hellsing se \n",
      "siente raro, aunque eres lo maximo ya que nadie duda de que eres una maquina de matar, nunca fallaras ni siquiera contra monstruos de mayor nivel o de leyendas. o como el que te cuentan que como gremio te dicen todo el tiempo que ayudan al ecosistema o que no se mata a no ser que sea necesario, procede a eliminar todo lo que se mueva (recuerdan que se pueden capturar los monstruos, parece que ellos lo olvidaron).\n",
      "\n",
      "Gameplay -  es el mejor MH en lo que respecta a armas, los combos de las armas es genial junto con la continuidad de ellos, aunque perdimos un par de cosas debido al modo \"focus\" y la mecánica de las heridas esta muy fuerte pero es genial ya que ves como causas heridas en el cuerpo de los monstruos (Oh eso se ve raro) y el daño que viene con golpear \n",
      "en ellas. el modo focus es bendicion ya que puede moverte mientra haces los ataques cargados.\n",
      "tristemente perdí la carga elemental del hacha para la CB de forma controlada, aunque se puede lograr de forma rápida al hacer guardia perfecta o al hacer el ataque de focus a las heridas (esto demora mucho mas). o que después de una descarga de vial continuar el combo o no quedar vendido con el megashock elemental, ya que la animación de cambio de hacha a espada era largo y ahora puedes seguir en modo hacha.\n",
      "pero a la gran espada me la bendicieron ya no es solos unga bunga y monstruo caer, es bunga bunga (le hice counter al ataque) y monstruo caer también. hmm bunga (me protegí con guardia perfecta del ataque he hice choque de poder) y monstruo caer.\n",
      "los lafarillos brillan por su ausencia, su única utilidad es que brillan por los items cercanos o uno que otra huella, se perdió la mecánica que en World te hacia cazador, el rastrear y investigar los monstruos. conseguir tus investigaciones de ahí.\n",
      "el mapa rompió otra cosa, la sorpresa de lo que puedes encontrar ya que puedes ver que monstruos están en el bioma que te encuentres o en los que no estas, me imagino si llegase un pepino o un bazelgeuse te aparecería una notificación en la zona derecha \"llego deviljho revisa las recompenzas\". ya no estarías peleando con el monstruo elegido y escuchar el \n",
      "ost de estos invasores, en el caso del bazel mirar al cielo asustado (inserte meme de allan dafoe mirando hacia arriba). y si hicieran un cambio tendrías que ocultar estos monstruos pero resaltarían ya que conoces a los otros y ese de incógnito al \n",
      "mirar el mapa sabrías instantáneamente quien es. ya no esta la sorpresa de quien esta en el mapa aunque esto se perdía cuando tu nivel de investigación era el suficientemente alto pero eso era ya cuando habías hecho varias cacerías.\n",
      "la comida esta, ahí esta solo puedo decir eso, buffos de comida también están. los festines en las distintas aldeas le agregan algo nuevo con las cinemáticas (vuelvan los gatitos dango o la abuelita felyne)\n",
      "\n",
      "Interfaz - es un paso atrás de los juegos anteriores, inicio con la tipografía mas genérica que he visto, los menús de misiones están normales pero cuando entras a las bengalas de auxilio te mezclan todo los tipos de misiones en una sola sección y solo apareciendo unas pocas misiones, mientras que anteriormente te los separaban por el tipo de misión. \n",
      "crossplay, ni mencionarlo ya que si quieres unirte a una misión de otra plataforma te aparecerán misiones que digan 1/4 jugadores, te unes y sesión llena. o el tiempo de estas las misión dura 45 min y el jugador ya lleva 45 min o 50 min en casos mas raro. incluyendo los errores de conexión.\n",
      "\n",
      "Encargada - no niego que es bella, no te niego que es util. pero es como mil veces mas molesta que la de world o no mis compis?. yo solo quiero explorar, apreciar el bioma. le agradezco que me de datos de la fauna pero algunas veces apreciar las cosa en silencio o pescar (no estoy loco, me gusta pescar y la mecánica de pesca esta buena) y que ella se pose frente a ti con su seikret tapando la pantalla o que estes cazando y comience a correr en circulos frente al monstruo es muy molesto. o que siempre te recuerde que el monstruo dejo algo cuando es muy probable que ya recogi la cola y deje la munición de eslinga.\n",
      "\n",
      "Felyne - 10 de 10 el gato es lo mejor. te cura, quita debuff, buffea, atrae el aggro, tankea, te lava la ropa, cocina (mentira \n",
      "ya no lo hacen 🥺) y te revive entre otras cosas mas. \n",
      "sigue siendo el adorable compañero de siempre y mejorado.\n",
      "   \n",
      "Armas - lo mejores diseños que he visto en bastante tiempo eclipsados por un arma con diseño futurista. igual paseo con mi hacha cargada de arkveld o la gran espada. o la de lala barina. están muy lindos los diseños. espero que la mecánica de refuerzo se agregue para las armas de monstruos (por favor, por favor que no sea con RNG te lo pido con toda mi alma) y que deje el juego de ser un simulador de cazar arkveld curtidos para conseguir las piezas (aunque igual eso puede cambiar con el contenido que agreguen a futuro). \n",
      "\n",
      "Armaduras - aquí decae un poco por no decir bastante, agradezco lo de las armaduras sobrepuestas en rango alto lo agradezco demasiado (gracias capcom por tanto y disculpar por tan poco), pero, pero tiene un detalle. porque no tenemos distintas armaduras de rango bajo y rango alto, la nula diferencia de las armaduras α y β.\n",
      "\n",
      "si llagaste aquí te agradezco que hayas tomado tu tiempo de leer esto (mucho texto), pero esos es lo que siento respecto al juego, es bueno y puede ser el mejor, pero le faltan muchas cosas que tenían en otras entregas, cosas que puede haber olvidado como la sala de reunión, casa propia, etc. si vienes de world o rise directo aquí te digo que tendrás que esperar, cuanto eso no lo se, depende de capcom. ya que la cantidad de contenido que tiene este juego a compara de los años de contenido de sus 2 antecesores es una diferencia abismal.\n",
      "inicie la reseña con el check de no recomendar y con solo unas cosas que comentar (lo malo del juego) ya que le falta y bastante, tiene cosas malas pero al final si sumas todo lo bueno que trae con lo malo, se equilibra bastante. si tienes tus dudas de comprarlo, espera a una oferta ya que cuando este de oferta lo mas seguro es que tenga mucho mas contenido, pero si eres fan de Monster Hunter dale su oportunidad no te arrepentirás.\n"
     ]
    }
   ],
   "source": [
    "# Calcular la longitud de cada reseña (por número de caracteres)\n",
    "df_reviews['review_length'] = df_reviews['review'].apply(len)\n",
    "\n",
    "# Seleccionar la reseña con mayor longitud\n",
    "longest_review = df_reviews.loc[df_reviews['review_length'].idxmax()]['review']\n",
    "\n",
    "print(\"La reseña más larga es:\")\n",
    "print(longest_review)\n"
   ]
  },
  {
   "cell_type": "markdown",
   "metadata": {},
   "source": [
    "## N-gramas\n",
    "N-Gramas (Bi-Gramas, Tri-Gramas) a partir de las reseñas del videojuegos, para identificar secuencia frecuentes de palabras\n",
    "Se utiliza la libreria de `from nltk import ngrams` para poder hacer los n-gramas"
   ]
  },
  {
   "cell_type": "code",
   "execution_count": null,
   "metadata": {},
   "outputs": [
    {
     "name": "stdout",
     "output_type": "stream",
     "text": [
      "Bi-gramas de la reseña aleatoria:\n",
      "[('amo', 'el'), ('el', 'juego'), ('juego', ','), (',', 'es'), ('es', 'demasiado'), ('demasiado', 'bueno'), ('bueno', 'y'), ('y', 'la'), ('la', 'verdad'), ('verdad', 'es'), ('es', 'que'), ('que', 'superó'), ('superó', 'todas'), ('todas', 'mi'), ('mi', 'expectativas'), ('expectativas', ','), (',', 'pero'), ('pero', ','), (',', 'tiene'), ('tiene', 'una'), ('una', 'de'), ('de', 'las'), ('las', 'peores'), ('peores', 'optimizaciones'), ('optimizaciones', 'que'), ('que', 'he'), ('he', 'visto'), ('visto', 'en'), ('en', 'mi'), ('mi', 'vida'), ('vida', ','), (',', 'necesita'), ('necesita', 'parchearse'), ('parchearse', 'urgente')]\n"
     ]
    }
   ],
   "source": [
    "# Funcion para extraer n-gramas de una reseña\n",
    "def get_ngrams(text, n=2):\n",
    "    token = nltk.word_tokenize(text.lower(), language='spanish')\n",
    "    return list(ngrams(token, n))\n",
    "\n",
    "# Extraer n-gramas (Bi-gramas) de una reseña Aleatoria de (1-100)\n",
    "bigrams = get_ngrams(review, n=2)\n",
    "print(f\"Bi-gramas de la reseña aleatoria:\")\n",
    "print(bigrams)\n"
   ]
  }
 ],
 "metadata": {
  "kernelspec": {
   "display_name": "tareas_venv",
   "language": "python",
   "name": "python3"
  },
  "language_info": {
   "codemirror_mode": {
    "name": "ipython",
    "version": 3
   },
   "file_extension": ".py",
   "mimetype": "text/x-python",
   "name": "python",
   "nbconvert_exporter": "python",
   "pygments_lexer": "ipython3",
   "version": "3.12.4"
  }
 },
 "nbformat": 4,
 "nbformat_minor": 4
}
